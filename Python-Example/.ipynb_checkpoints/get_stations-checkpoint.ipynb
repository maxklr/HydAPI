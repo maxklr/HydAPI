{
 "cells": [
  {
   "cell_type": "code",
   "execution_count": 1,
   "metadata": {},
   "outputs": [],
   "source": [
    "import csv\n",
    "import getopt\n",
    "import json\n",
    "import sys\n",
    "import pandas as pd"
   ]
  },
  {
   "cell_type": "code",
   "execution_count": 2,
   "metadata": {},
   "outputs": [],
   "source": [
    "from urllib.request import Request, urlopen  # Python 3"
   ]
  },
  {
   "cell_type": "code",
   "execution_count": 3,
   "metadata": {},
   "outputs": [],
   "source": [
    "api_key = \"cEdnUBwYRUanB50ae573FA==\""
   ]
  },
  {
   "cell_type": "code",
   "execution_count": 11,
   "metadata": {},
   "outputs": [],
   "source": [
    "url = \"https://hydapi.nve.no//api/v1/Stations?CountyName=Vestland&Active=0\"\n",
    "\n",
    "request_headers = {\n",
    "        \"Accept\": \"application/json\",\n",
    "        \"X-API-Key\": api_key\n",
    "        }"
   ]
  },
  {
   "cell_type": "code",
   "execution_count": 12,
   "metadata": {},
   "outputs": [],
   "source": [
    "request = Request(url, headers=request_headers)\n",
    "\n",
    "response = urlopen(request)\n",
    "content = response.read().decode('utf-8')"
   ]
  },
  {
   "cell_type": "code",
   "execution_count": 13,
   "metadata": {},
   "outputs": [],
   "source": [
    "df = pd.json_normalize(json.loads(content)['data'])"
   ]
  },
  {
   "cell_type": "code",
   "execution_count": 14,
   "metadata": {},
   "outputs": [
    {
     "data": {
      "text/plain": [
       "(371, 98)"
      ]
     },
     "execution_count": 14,
     "metadata": {},
     "output_type": "execute_result"
    }
   ],
   "source": [
    "df.shape"
   ]
  },
  {
   "cell_type": "code",
   "execution_count": 16,
   "metadata": {},
   "outputs": [],
   "source": [
    "station_list = df['stationId'].tolist()\n",
    "param_list = \"1001\""
   ]
  },
  {
   "cell_type": "code",
   "execution_count": 17,
   "metadata": {},
   "outputs": [],
   "source": [
    "station_chunks = [station_list[i:i + 10] for i in range(0, len(station_list), 10)]"
   ]
  },
  {
   "cell_type": "code",
   "execution_count": null,
   "metadata": {},
   "outputs": [],
   "source": []
  },
  {
   "cell_type": "code",
   "execution_count": null,
   "metadata": {},
   "outputs": [],
   "source": [
    "df_list = []\n",
    "\n",
    "request_headers = {\n",
    "        \"Accept\": \"application/json\",\n",
    "        \"X-API-Key\": api_key\n",
    "        }\n",
    "\n",
    "for i in station_chunks[0:10]:\n",
    "    url = (\"https://hydapi.nve.no//api/v1/Observations\"\n",
    "        \"?StationId={string}&Parameter={param_list}&ResolutionTime=0\")\n",
    "    url_q = url.format(string=','.join(i), param_list = param_list)\n",
    "    \n",
    "    print(url_q)\n",
    "    request_q = Request(url_q, headers=request_headers)\n",
    "\n",
    "    response_q = urlopen(request_q)\n",
    "    content_q = response_q.read().decode('utf-8')\n",
    "    \n",
    "    data = pd.json_normalize(json.loads(content_q), 'data')\n",
    "    df_list.append(data)"
   ]
  },
  {
   "cell_type": "code",
   "execution_count": null,
   "metadata": {},
   "outputs": [],
   "source": [
    "df_q = pd.concat(df_list, ignore_index=True)"
   ]
  },
  {
   "cell_type": "code",
   "execution_count": null,
   "metadata": {},
   "outputs": [],
   "source": [
    "df_q"
   ]
  },
  {
   "cell_type": "code",
   "execution_count": null,
   "metadata": {},
   "outputs": [],
   "source": [
    "string = ','.join(station_list)"
   ]
  },
  {
   "cell_type": "code",
   "execution_count": null,
   "metadata": {},
   "outputs": [],
   "source": [
    "url = ('\"https://hydapi.nve.no//api/v1/Observations\"'\n",
    "        '\"?StationId={string}&Parameter={param_list}&ResolutionTime=0\"')\n",
    "inputs = \".format(string=string2, param_list = param_list)\"\n",
    "\n",
    "url_q = url + inputs"
   ]
  },
  {
   "cell_type": "code",
   "execution_count": null,
   "metadata": {},
   "outputs": [],
   "source": [
    "print(url_q)"
   ]
  },
  {
   "cell_type": "code",
   "execution_count": null,
   "metadata": {},
   "outputs": [],
   "source": [
    "url_q = (\"https://hydapi.nve.no//api/v1/Observations\"\n",
    "        \"?StationId={string}&Parameter={param_list}&ResolutionTime=0\").format(string=string2, param_list = param_list)\n",
    "\n",
    "request_headers = {\n",
    "        \"Accept\": \"application/json\",\n",
    "        \"X-API-Key\": api_key\n",
    "        }\n"
   ]
  },
  {
   "cell_type": "code",
   "execution_count": null,
   "metadata": {},
   "outputs": [],
   "source": [
    "url_q"
   ]
  },
  {
   "cell_type": "code",
   "execution_count": null,
   "metadata": {},
   "outputs": [],
   "source": [
    "request_q = Request(url_q, headers=request_headers)\n",
    "\n",
    "response_q = urlopen(request_q)\n",
    "content_q = response_q.read().decode('utf-8')"
   ]
  },
  {
   "cell_type": "code",
   "execution_count": null,
   "metadata": {},
   "outputs": [],
   "source": [
    "df2 = pd.json_normalize(json.loads(content_q)['data'])"
   ]
  },
  {
   "cell_type": "code",
   "execution_count": null,
   "metadata": {},
   "outputs": [],
   "source": [
    "df2"
   ]
  },
  {
   "cell_type": "code",
   "execution_count": null,
   "metadata": {},
   "outputs": [],
   "source": [
    "print()\n",
    "print(\"Get observations from the NVE Hydrological API (HydAPI)\")\n",
    "print(\"Parameters:\")\n",
    "print(\"   -a: ApiKey (mandatory). \")\n",
    "print(\"   -s: StationId (mandatory). Several stations can be given separated by comma. Example \\\"6.10.0,12.209.0\")\n",
    "print(\"   -p: Parameter (mandatory). Several Parameters can be given se\")\n",
    "print(\"   -r: Resolution time. 0 (instantenous),60 (hourly) or 1440 (daily). (mandatory)\")\n",
    "print(\"   -t: Reference time. See documentation for referencetime. Example \\\"P1D/\\\", gives one day back in time. If none given, the last observed value will be returned\")\n",
    "print(\"   -h: This help\")\n",
    "print()\n",
    "print(\"Example:\")\n",
    "print(\"    python get-observations.py -a \\\"INSERT_APIKEY_HERE\\\" -s \\\"6.10.0,12.209.0\\\" -p \\\"1000,1001\\\" -r 60 -t \\\"P1D/\\\"\")\n",
    "print()"
   ]
  },
  {
   "cell_type": "code",
   "execution_count": null,
   "metadata": {},
   "outputs": [],
   "source": []
  }
 ],
 "metadata": {
  "kernelspec": {
   "display_name": "Python 3",
   "language": "python",
   "name": "python3"
  },
  "language_info": {
   "codemirror_mode": {
    "name": "ipython",
    "version": 3
   },
   "file_extension": ".py",
   "mimetype": "text/x-python",
   "name": "python",
   "nbconvert_exporter": "python",
   "pygments_lexer": "ipython3",
   "version": "3.8.2"
  }
 },
 "nbformat": 4,
 "nbformat_minor": 4
}
