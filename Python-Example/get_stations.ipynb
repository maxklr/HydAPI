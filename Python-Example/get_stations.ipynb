{
 "cells": [
  {
   "cell_type": "markdown",
   "metadata": {},
   "source": [
    "### Importere nødvendige biblioteker"
   ]
  },
  {
   "cell_type": "code",
   "execution_count": 1,
   "metadata": {},
   "outputs": [],
   "source": [
    "import csv\n",
    "import getopt\n",
    "import json\n",
    "import sys\n",
    "import pandas as pd\n",
    "from urllib.request import Request, urlopen  # Python 3"
   ]
  },
  {
   "cell_type": "code",
   "execution_count": 66,
   "metadata": {},
   "outputs": [],
   "source": [
    "api_key = \"cEdnUBwYRUanB50ae573FA==\"\n",
    "url = \"https://hydapi.nve.no//api/v1/Stations?CountyName=Vestland&Active=0\"\n",
    "\n",
    "request_headers = {\n",
    "        \"Accept\": \"application/json\",\n",
    "        \"X-API-Key\": api_key\n",
    "        }"
   ]
  },
  {
   "cell_type": "code",
   "execution_count": 67,
   "metadata": {},
   "outputs": [],
   "source": [
    "request = Request(url, headers=request_headers) # Send spørring til hydAPI\n",
    "print\n",
    "response = urlopen(request)\n",
    "content = response.read().decode('utf-8')\n",
    "\n",
    "df = pd.json_normalize(json.loads(content), 'data')"
   ]
  },
  {
   "cell_type": "markdown",
   "metadata": {},
   "source": [
    "### Hente observasjoner fra stasjoner i Vestland"
   ]
  },
  {
   "cell_type": "code",
   "execution_count": 107,
   "metadata": {},
   "outputs": [],
   "source": [
    "station_list = df['stationId'].tolist()\n",
    "param_list = \"1001\"\n",
    "\n",
    "station_chunks = [station_list[i:i + 10] for i in range(0, len(station_list), 10)]"
   ]
  },
  {
   "cell_type": "code",
   "execution_count": 175,
   "metadata": {},
   "outputs": [
    {
     "name": "stdout",
     "output_type": "stream",
     "text": [
      "https://hydapi.nve.no//api/v1/Observations?StationId=12.162.0,15.118.2,36.14.0,36.15.0,36.18.0,36.21.0,36.22.0,36.23.0,36.24.0,36.9.0&Parameter=1001&ResolutionTime=0\n",
      "https://hydapi.nve.no//api/v1/Observations?StationId=41.1.0,41.12.0,41.2.0,41.34.0,41.36.0,41.37.0,41.38.0,41.4.0,41.8.0,41.9.0&Parameter=1001&ResolutionTime=0\n",
      "https://hydapi.nve.no//api/v1/Observations?StationId=42.1.0,42.10.0,42.11.0,42.16.0,42.2.0,42.23.0,42.7.0,42.9.0,45.4.0,46.10.0&Parameter=1001&ResolutionTime=0\n"
     ]
    }
   ],
   "source": [
    "df_list = []\n",
    "\n",
    "request_headers = {\n",
    "        \"Accept\": \"application/json\",\n",
    "        \"X-API-Key\": api_key\n",
    "        }\n",
    "\n",
    "for i in station_chunks[0:3]:\n",
    "    url = (\"https://hydapi.nve.no//api/v1/Observations\"\n",
    "        \"?StationId={string}&Parameter={param_list}&ResolutionTime=0\")\n",
    "    url_q = url.format(string=','.join(i), param_list = param_list)\n",
    "    \n",
    "    print(url_q)\n",
    "    request_q = Request(url_q, headers=request_headers)\n",
    "\n",
    "    response_q = urlopen(request_q)\n",
    "    content_q = response_q.read().decode('utf-8')\n",
    "    \n",
    "    data = pd.json_normalize(json.loads(content_q)['data'])\n",
    "    data = data.explode('observations')\n",
    "    data = pd.concat([data, data['observations'].apply(pd.Series)], axis=1)\n",
    "    data = data.drop(columns='observations')\n",
    "    df_list.append(data)"
   ]
  },
  {
   "cell_type": "code",
   "execution_count": 176,
   "metadata": {},
   "outputs": [],
   "source": [
    "df_q = pd.concat(df_list, ignore_index=True)"
   ]
  },
  {
   "cell_type": "markdown",
   "metadata": {},
   "source": [
    "### Hente koordinater fra stasjons og andre data fra df"
   ]
  },
  {
   "cell_type": "code",
   "execution_count": null,
   "metadata": {},
   "outputs": [],
   "source": []
  }
 ],
 "metadata": {
  "kernelspec": {
   "display_name": "Python 3",
   "language": "python",
   "name": "python3"
  },
  "language_info": {
   "codemirror_mode": {
    "name": "ipython",
    "version": 3
   },
   "file_extension": ".py",
   "mimetype": "text/x-python",
   "name": "python",
   "nbconvert_exporter": "python",
   "pygments_lexer": "ipython3",
   "version": "3.8.2"
  }
 },
 "nbformat": 4,
 "nbformat_minor": 4
}
